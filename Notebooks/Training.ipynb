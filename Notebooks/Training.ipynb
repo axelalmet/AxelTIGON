{
 "cells": [
  {
   "attachments": {},
   "cell_type": "markdown",
   "id": "fb5d4c94",
   "metadata": {},
   "source": [
    "## Introduction\n",
    "\n",
    "In this tutorial, we demonstrate the training procedure of TIGON on EMT dataset. The EMT dataset is time-series scRNA-seq dataset from an A549 cancer cell line where cells were exposed to TGFB1 to induce EMT at the first five time points [1].\n",
    "\n",
    "Here we have processed the dataset into 3-dimensional UMAP space, and use the UMAP embedding space as the input.\n",
    "\n",
    "References:\n",
    "1. Cook, D.P. and B.C. Vanderhyden, Context specificity of the EMT transcriptional response. Nature communications, 2020. 11(1): p. 2142"
   ]
  },
  {
   "cell_type": "code",
   "execution_count": 1,
   "id": "9754f8db",
   "metadata": {},
   "outputs": [],
   "source": [
    "import os\n",
    "import numpy as np\n",
    "import torch\n",
    "import torch.nn as nn\n",
    "import torch.optim as optim\n",
    "\n",
    "import sys\n",
    "sys.path.append('Path to utility.py')\n",
    "from utility import *\n",
    "\n"
   ]
  },
  {
   "cell_type": "markdown",
   "id": "faed0dc2",
   "metadata": {},
   "source": [
    "Here we use a training with 5 iterations as an example. \n",
    "GPU is suggested for training."
   ]
  },
  {
   "cell_type": "code",
   "execution_count": 2,
   "id": "d660658e",
   "metadata": {},
   "outputs": [
    {
     "name": "stdout",
     "output_type": "stream",
     "text": [
      "Name of the data set. Options: EMT; Lineage; Bifurcation; Simulation (default: EMT): \n",
      "Time points of data (default: 0, 0.1, 0.3, 0.9, 2.1): \n",
      "Number of training iterations (default: 5000): 5\n",
      "Learning rate (default: 3e-3): \n",
      "Number of sampling points per epoch (default: 100): \n",
      "Dimension of the hidden layer (default: 16): \n",
      "Number of hidden layers (default: 4): \n",
      "Activation function (default: Tanh): \n",
      "GPU device index (default: 0): \n",
      "Input Files Directory (default: Input/): \n",
      "Output Files Directory (default: Output/): \n",
      "Random seed (default: 1): \n"
     ]
    }
   ],
   "source": [
    "args = create_args()"
   ]
  },
  {
   "cell_type": "code",
   "execution_count": 3,
   "id": "6198c960",
   "metadata": {},
   "outputs": [
    {
     "name": "stdout",
     "output_type": "stream",
     "text": [
      "Iter: 1, loss: 850.1318\n",
      "Iter: 2, loss: 279.2664\n",
      "Iter: 3, loss: 149.7138\n",
      "Iter: 4, loss: 97.2460\n",
      "Iter: 5, loss: 75.8585\n",
      "Training complete after 5 iters.\n",
      "Stored ckpt at Output/ckpt.pth\n"
     ]
    }
   ],
   "source": [
    "if __name__ == '__main__':\n",
    "    \n",
    "    random.seed(args.seed)\n",
    "    torch.manual_seed(args.seed)\n",
    "\n",
    "    device = torch.device('cuda:' + str(args.gpu)\n",
    "                            if torch.cuda.is_available() else 'cpu')\n",
    "    # load dataset\n",
    "    data_train = loaddata(args,device)\n",
    "    integral_time = args.timepoints\n",
    "\n",
    "    time_pts = range(len(data_train))\n",
    "    leave_1_out = []\n",
    "    train_time = [x for i,x in enumerate(time_pts) if i!=leave_1_out]\n",
    "\n",
    "\n",
    "    # model\n",
    "    func = UOT(in_out_dim=data_train[0].shape[1], hidden_dim=args.hidden_dim,n_hiddens=args.n_hiddens,activation=args.activation).to(device)\n",
    "    func.apply(initialize_weights)\n",
    "\n",
    "\n",
    "    # configure training options\n",
    "    options = {}\n",
    "    options.update({'method': 'Dopri5'})\n",
    "    options.update({'h': None})\n",
    "    options.update({'rtol': 1e-3})\n",
    "    options.update({'atol': 1e-5})\n",
    "    options.update({'print_neval': False})\n",
    "    options.update({'neval_max': 1000000})\n",
    "    options.update({'safety': None})\n",
    "\n",
    "    optimizer = optim.Adam(func.parameters(), lr=args.lr, weight_decay= 0.01)\n",
    "    lr_adjust = optim.lr_scheduler.MultiStepLR(optimizer, milestones=[args.niters-400,args.niters-200], gamma=0.5, last_epoch=-1)\n",
    "    mse = nn.MSELoss()\n",
    "\n",
    "    LOSS = []\n",
    "    L2_1 = []\n",
    "    L2_2 = []\n",
    "    Trans = []\n",
    "    Sigma = []\n",
    "    \n",
    "    if args.save_dir is not None:\n",
    "        if not os.path.exists(args.save_dir):\n",
    "            os.makedirs(args.save_dir)\n",
    "        ckpt_path = os.path.join(args.save_dir, 'ckpt.pth')\n",
    "        if os.path.exists(ckpt_path):\n",
    "            checkpoint = torch.load(ckpt_path)\n",
    "            func.load_state_dict(checkpoint['func_state_dict'])\n",
    "            optimizer.load_state_dict(checkpoint['optimizer_state_dict'])\n",
    "            print('Loaded ckpt from {}'.format(ckpt_path))\n",
    "\n",
    "    try:\n",
    "        sigma_now = 1\n",
    "        for itr in range(1, args.niters + 1):\n",
    "            optimizer.zero_grad()\n",
    "            \n",
    "            loss, loss1, sigma_now, L2_value1, L2_value2 = train_model(mse,func,args,data_train,train_time,integral_time,sigma_now,options,device,itr)\n",
    "\n",
    "            \n",
    "            loss.backward()\n",
    "            optimizer.step()\n",
    "            lr_adjust.step()\n",
    "\n",
    "            LOSS.append(loss.item())\n",
    "            Trans.append(loss1[-1].mean(0).item())\n",
    "            Sigma.append(sigma_now)\n",
    "            L2_1.append(L2_value1.tolist())\n",
    "            L2_2.append(L2_value2.tolist())\n",
    "            \n",
    "            print('Iter: {}, loss: {:.4f}'.format(itr, loss.item()))\n",
    "            \n",
    "            \n",
    "            if itr % 500 == 0:\n",
    "                ckpt_path = os.path.join(args.save_dir, 'ckpt_itr{}.pth'.format(itr))\n",
    "                torch.save({'func_state_dict': func.state_dict()}, ckpt_path)\n",
    "                print('Iter {}, Stored ckpt at {}'.format(itr, ckpt_path))\n",
    "                \n",
    "            \n",
    "            \n",
    "\n",
    "    except KeyboardInterrupt:\n",
    "        if args.save_dir is not None:\n",
    "            ckpt_path = os.path.join(args.save_dir, 'ckpt.pth')\n",
    "            torch.save({\n",
    "                'func_state_dict': func.state_dict(),\n",
    "                'optimizer_state_dict': optimizer.state_dict(),\n",
    "            }, ckpt_path)\n",
    "            print('Stored ckpt at {}'.format(ckpt_path))\n",
    "    print('Training complete after {} iters.'.format(itr))\n",
    "    \n",
    "    \n",
    "    ckpt_path = os.path.join(args.save_dir, 'ckpt.pth')\n",
    "    torch.save({\n",
    "        'func_state_dict': func.state_dict(),\n",
    "        'optimizer_state_dict': optimizer.state_dict(),\n",
    "        'LOSS':LOSS,\n",
    "        'TRANS':Trans,\n",
    "        'L2_1': L2_1,\n",
    "        'L2_2': L2_2,\n",
    "        'Sigma': Sigma\n",
    "    }, ckpt_path)\n",
    "    print('Stored ckpt at {}'.format(ckpt_path))"
   ]
  }
 ],
 "metadata": {
  "kernelspec": {
   "display_name": "Python 3 (ipykernel)",
   "language": "python",
   "name": "python3"
  },
  "language_info": {
   "codemirror_mode": {
    "name": "ipython",
    "version": 3
   },
   "file_extension": ".py",
   "mimetype": "text/x-python",
   "name": "python",
   "nbconvert_exporter": "python",
   "pygments_lexer": "ipython3",
   "version": "3.8.16"
  }
 },
 "nbformat": 4,
 "nbformat_minor": 5
}
